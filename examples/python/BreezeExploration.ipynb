{
 "cells": [
  {
   "cell_type": "code",
   "execution_count": 1,
   "metadata": {
    "collapsed": false,
    "deletable": true,
    "editable": true
   },
   "outputs": [
    {
     "data": {
      "text/plain": [
       "\u001b[32mimport \u001b[39m\u001b[36m$ivy.$                            \n",
       "\u001b[39m\n",
       "\u001b[32mimport \u001b[39m\u001b[36m$ivy.$                                    \n",
       "\u001b[39m\n",
       "\u001b[32mimport \u001b[39m\u001b[36m$ivy.$                             \n",
       "\u001b[39m"
      ]
     },
     "execution_count": 1,
     "metadata": {},
     "output_type": "execute_result"
    }
   ],
   "source": [
    "import $ivy.`org.scalanlp::breeze:0.13.1`\n",
    "import $ivy.`org.scalanlp::breeze-natives:0.13.1`\n",
    "import $ivy.`com.chuusai::shapeless:2.3.2`\n"
   ]
  },
  {
   "cell_type": "code",
   "execution_count": 2,
   "metadata": {
    "collapsed": false,
    "deletable": true,
    "editable": true
   },
   "outputs": [
    {
     "data": {
      "text/plain": [
       "\u001b[32mimport \u001b[39m\u001b[36mbreeze.linalg.{eig, eigSym, svd, DenseMatrix => BDM, DenseVector => BDV, Vector => BV}\n",
       "\u001b[39m\n",
       "\u001b[32mimport \u001b[39m\u001b[36mbreeze.numerics.pow\n",
       "\u001b[39m\n",
       "\u001b[32mimport \u001b[39m\u001b[36mbreeze.linalg._\n",
       "\u001b[39m\n",
       "\u001b[32mimport \u001b[39m\u001b[36mbreeze.numerics._\n",
       "// import shapeless._\u001b[39m"
      ]
     },
     "execution_count": 2,
     "metadata": {},
     "output_type": "execute_result"
    }
   ],
   "source": [
    "import breeze.linalg.{eig, eigSym, svd, DenseMatrix => BDM, DenseVector => BDV, Vector => BV}\n",
    "import breeze.numerics.pow\n",
    "import breeze.linalg._\n",
    "import breeze.numerics._\n",
    "// import shapeless._"
   ]
  },
  {
   "cell_type": "code",
   "execution_count": 3,
   "metadata": {
    "collapsed": false,
    "deletable": true,
    "editable": true
   },
   "outputs": [
    {
     "data": {
      "text/plain": [
       "\u001b[36mdm\u001b[39m: \u001b[32mDenseMatrix\u001b[39m[\u001b[32mDouble\u001b[39m] = 1.0   2.0   3.0   4.0   \n",
       "5.0   6.0   7.0   8.0   \n",
       "9.0   10.0  11.0  12.0  \n",
       "13.0  14.0  15.0  16.0  "
      ]
     },
     "execution_count": 3,
     "metadata": {},
     "output_type": "execute_result"
    }
   ],
   "source": [
    "val dm = DenseMatrix((1.0,2.0,3.0,4.0), (5.0,6.0,7.0,8.0), (9.0,10.0,11.0,12.0), (13.0,14.0,15.0,16.0))"
   ]
  },
  {
   "cell_type": "code",
   "execution_count": 4,
   "metadata": {
    "collapsed": false,
    "deletable": true,
    "editable": true
   },
   "outputs": [
    {
     "data": {
      "text/plain": [
       "\u001b[36mres3\u001b[39m: \u001b[32mDenseVector\u001b[39m[\u001b[32mDouble\u001b[39m] = DenseVector(3.0, 7.0, 11.0, 15.0)"
      ]
     },
     "execution_count": 4,
     "metadata": {},
     "output_type": "execute_result"
    }
   ],
   "source": [
    "dm(::,2)"
   ]
  },
  {
   "cell_type": "code",
   "execution_count": 5,
   "metadata": {
    "collapsed": false,
    "deletable": true,
    "editable": true
   },
   "outputs": [
    {
     "data": {
      "text/plain": [
       "\u001b[36mindices\u001b[39m: \u001b[32mIndexedSeq\u001b[39m[\u001b[32mInt\u001b[39m] = \u001b[33mVector\u001b[39m(\u001b[32m0\u001b[39m, \u001b[32m2\u001b[39m)"
      ]
     },
     "execution_count": 5,
     "metadata": {},
     "output_type": "execute_result"
    }
   ],
   "source": [
    "val indices = IndexedSeq(0,2)"
   ]
  },
  {
   "cell_type": "code",
   "execution_count": 6,
   "metadata": {
    "collapsed": false,
    "deletable": true,
    "editable": true
   },
   "outputs": [
    {
     "data": {
      "text/plain": [
       "\u001b[36mres5\u001b[39m: \u001b[32mSliceMatrix\u001b[39m[\u001b[32mInt\u001b[39m, \u001b[32mInt\u001b[39m, \u001b[32mDouble\u001b[39m] = 1.0   3.0   \n",
       "5.0   7.0   \n",
       "9.0   11.0  \n",
       "13.0  15.0  "
      ]
     },
     "execution_count": 6,
     "metadata": {},
     "output_type": "execute_result"
    }
   ],
   "source": [
    "dm(::,indices)"
   ]
  },
  {
   "cell_type": "code",
   "execution_count": 7,
   "metadata": {
    "collapsed": false,
    "deletable": true,
    "editable": true
   },
   "outputs": [
    {
     "data": {
      "text/plain": [
       "\u001b[36mv\u001b[39m: \u001b[32mDenseVector\u001b[39m[\u001b[32mDouble\u001b[39m] = DenseVector(1.4142135623730951, 1.7320508075688772)\n",
       "\u001b[36mm\u001b[39m: \u001b[32mDenseMatrix\u001b[39m[\u001b[32mDouble\u001b[39m] = 1.0   3.0   \n",
       "5.0   7.0   \n",
       "9.0   11.0  \n",
       "13.0  15.0  "
      ]
     },
     "execution_count": 7,
     "metadata": {},
     "output_type": "execute_result"
    }
   ],
   "source": [
    "val v = sqrt(DenseVector(2,3))\n",
    "val m = dm(::, indices).toDenseMatrix\n"
   ]
  },
  {
   "cell_type": "code",
   "execution_count": 8,
   "metadata": {
    "collapsed": false,
    "deletable": true,
    "editable": true
   },
   "outputs": [
    {
     "data": {
      "text/plain": [
       "\u001b[36mres7\u001b[39m: \u001b[32mInt\u001b[39m = \u001b[32m4\u001b[39m"
      ]
     },
     "execution_count": 8,
     "metadata": {},
     "output_type": "execute_result"
    }
   ],
   "source": [
    "m.rows"
   ]
  },
  {
   "cell_type": "code",
   "execution_count": 8,
   "metadata": {
    "collapsed": false,
    "deletable": true,
    "editable": true
   },
   "outputs": [],
   "source": [
    "// m(::, *) :* v"
   ]
  },
  {
   "cell_type": "code",
   "execution_count": 9,
   "metadata": {
    "collapsed": false,
    "deletable": true,
    "editable": true
   },
   "outputs": [
    {
     "data": {
      "text/plain": [
       "\u001b[36mdm\u001b[39m: \u001b[32mDenseMatrix\u001b[39m[\u001b[32mInt\u001b[39m] = 2  4  6  \n",
       "3  6  9  \n",
       "\u001b[36mdv\u001b[39m: \u001b[32mDenseVector\u001b[39m[\u001b[32mInt\u001b[39m] = DenseVector(2, 3)\n",
       "\u001b[36mres8_2\u001b[39m: \u001b[32mBroadcastedColumns\u001b[39m[\u001b[32mDenseMatrix\u001b[39m[\u001b[32mInt\u001b[39m], \u001b[32mDenseVector\u001b[39m[\u001b[32mInt\u001b[39m]] = \u001b[33mBroadcastedColumns\u001b[39m(\n",
       "  2  4  6  \n",
       "3  6  9  \n",
       ")\n",
       "\u001b[36mres8_3\u001b[39m: \u001b[32mDenseMatrix\u001b[39m[\u001b[32mInt\u001b[39m] = 4  8   12  \n",
       "9  18  27  "
      ]
     },
     "execution_count": 9,
     "metadata": {},
     "output_type": "execute_result"
    }
   ],
   "source": [
    " val dm = DenseMatrix( (2, 4, 6), (3, 6, 9) )\n",
    "val dv = DenseVector(2,3)\n",
    "dm(::, *)\n",
    "dm(::, *) :* dv"
   ]
  },
  {
   "cell_type": "code",
   "execution_count": 10,
   "metadata": {
    "collapsed": false,
    "deletable": true,
    "editable": true
   },
   "outputs": [
    {
     "name": "stdout",
     "output_type": "stream",
     "text": [
      "0:0--->5:1\n",
      "1:0--->5:1\n",
      "2:0--->5:1\n",
      "0:1--->5:2\n",
      "1:1--->5:2\n",
      "2:1--->5:2\n",
      "0:2--->5:3\n",
      "1:2--->5:3\n",
      "2:2--->5:3\n",
      "0:3--->5:4\n",
      "1:3--->5:4\n",
      "2:3--->5:4\n"
     ]
    },
    {
     "data": {
      "text/plain": [
       "\u001b[36madder\u001b[39m: \u001b[32mDenseVector\u001b[39m[\u001b[32mInt\u001b[39m] = DenseVector(1, 2, 3, 4)\n",
       "\u001b[36mresult\u001b[39m: \u001b[32mDenseMatrix\u001b[39m[\u001b[32mInt\u001b[39m] = 6  7  8  9  \n",
       "6  7  8  9  \n",
       "6  7  8  9  "
      ]
     },
     "execution_count": 10,
     "metadata": {},
     "output_type": "execute_result"
    }
   ],
   "source": [
    "  val adder = DenseVector(1, 2, 3, 4)\n",
    "\n",
    "  val result = DenseMatrix.fill[Int](3, 4)(5).mapPairs({\n",
    "    case ((row, col), value) => {\n",
    "        print( row + \":\" +col)\n",
    "        println(\"--->\" + value + \":\" + adder(col))\n",
    "      value + adder(col)\n",
    "    }\n",
    "  })"
   ]
  },
  {
   "cell_type": "code",
   "execution_count": 11,
   "metadata": {
    "collapsed": false,
    "deletable": true,
    "editable": true
   },
   "outputs": [
    {
     "data": {
      "text/plain": [
       "\u001b[36mresult\u001b[39m: \u001b[32mDenseMatrix\u001b[39m[\u001b[32mDouble\u001b[39m] = 1.4142135623730951  5.196152422706632   \n",
       "7.0710678118654755  12.12435565298214   \n",
       "12.727922061357857  19.05255888325765   \n",
       "18.38477631085024   25.980762113533157  "
      ]
     },
     "execution_count": 11,
     "metadata": {},
     "output_type": "execute_result"
    }
   ],
   "source": [
    "  val result = m.mapPairs({\n",
    "    case ((row, col), value) => {\n",
    "      value * v(col)\n",
    "    }\n",
    "  })"
   ]
  },
  {
   "cell_type": "code",
   "execution_count": 12,
   "metadata": {
    "collapsed": false,
    "deletable": true,
    "editable": true
   },
   "outputs": [
    {
     "data": {
      "text/plain": [
       "\u001b[36mp\u001b[39m: \u001b[32mList\u001b[39m[\u001b[32mInt\u001b[39m] = \u001b[33mList\u001b[39m(\u001b[32m4\u001b[39m, \u001b[32m3\u001b[39m, \u001b[32m5\u001b[39m, \u001b[32m6\u001b[39m, \u001b[32m7\u001b[39m)\n",
       "\u001b[36mq\u001b[39m: \u001b[32mList\u001b[39m[\u001b[32mInt\u001b[39m] = \u001b[33mList\u001b[39m(\u001b[32m8\u001b[39m, \u001b[32m3\u001b[39m, \u001b[32m0\u001b[39m, \u001b[32m1\u001b[39m, \u001b[32m9\u001b[39m)\n",
       "\u001b[36mr\u001b[39m: \u001b[32mList\u001b[39m[\u001b[32mInt\u001b[39m] = \u001b[33mList\u001b[39m(\u001b[32m3\u001b[39m, \u001b[32m8\u001b[39m, \u001b[32m1\u001b[39m, \u001b[32m0\u001b[39m, \u001b[32m3\u001b[39m)\n",
       "\u001b[36mi\u001b[39m: \u001b[32mList\u001b[39m[\u001b[32mInt\u001b[39m] = \u001b[33mList\u001b[39m(\u001b[32m1\u001b[39m, \u001b[32m4\u001b[39m, \u001b[32m3\u001b[39m, \u001b[32m2\u001b[39m, \u001b[32m5\u001b[39m)"
      ]
     },
     "execution_count": 12,
     "metadata": {},
     "output_type": "execute_result"
    }
   ],
   "source": [
    "val p = List(4,3,5,6,7)\n",
    "val q = List(8,3,0,1,9)\n",
    "val r = List(3,8,1,0,3)\n",
    "val i = List(1,4,3,2,5)\n",
    "\n"
   ]
  },
  {
   "cell_type": "code",
   "execution_count": 12,
   "metadata": {
    "collapsed": false,
    "deletable": true,
    "editable": true
   },
   "outputs": [],
   "source": [
    "// (p,q,r,i).zipped Error"
   ]
  },
  {
   "cell_type": "code",
   "execution_count": 12,
   "metadata": {
    "collapsed": false,
    "deletable": true,
    "editable": true
   },
   "outputs": [
    {
     "name": "stderr",
     "output_type": "stream",
     "text": [
      "cmd12.sc:1: not found: value HNil\n",
      "val list = 42 :: \"foo\" :: HNil\n",
      "                          ^"
     ]
    },
    {
     "ename": "",
     "evalue": "",
     "output_type": "error",
     "traceback": [
      "Compilation Failed"
     ]
    }
   ],
   "source": [
    "val list = 42 :: \"foo\" :: HNil\n"
   ]
  },
  {
   "cell_type": "code",
   "execution_count": 12,
   "metadata": {
    "collapsed": false,
    "deletable": true,
    "editable": true
   },
   "outputs": [
    {
     "name": "stderr",
     "output_type": "stream",
     "text": [
      "cmd12.sc:1: not found: value list\n",
      "val res12_0 = list.head\n",
      "              ^cmd12.sc:2: not found: value list\n",
      "val res12_1 = list.tail.head\n",
      "              ^cmd12.sc:3: not found: value list\n",
      "val res12_2 = list(1)\n",
      "              ^cmd12.sc:4: not found: value list\n",
      "val res12_3 = list\n",
      "              ^"
     ]
    },
    {
     "ename": "",
     "evalue": "",
     "output_type": "error",
     "traceback": [
      "Compilation Failed"
     ]
    }
   ],
   "source": [
    "list.head\n",
    "list.tail.head\n",
    "list(1)\n",
    "list"
   ]
  },
  {
   "cell_type": "code",
   "execution_count": 13,
   "metadata": {
    "collapsed": false,
    "deletable": true,
    "editable": true
   },
   "outputs": [
    {
     "data": {
      "text/plain": [
       "defined \u001b[32mclass\u001b[39m \u001b[36mBiMap\u001b[39m\n",
       "\u001b[36mstringToVec\u001b[39m: \u001b[32mBiMap\u001b[39m[\u001b[32mString\u001b[39m, \u001b[32mVector\u001b[39m[\u001b[32mDouble\u001b[39m]] = $sess.cmd12Wrapper$Helper$BiMap@c70ae2e\n",
       "\u001b[36mstringToArrayDouble\u001b[39m: \u001b[32mBiMap\u001b[39m[\u001b[32mString\u001b[39m, \u001b[32mArray\u001b[39m[\u001b[32mDouble\u001b[39m]] = $sess.cmd12Wrapper$Helper$BiMap@3a37731e\n",
       "\u001b[36mstringToArrayString\u001b[39m: \u001b[32mBiMap\u001b[39m[\u001b[32mString\u001b[39m, \u001b[32mArray\u001b[39m[\u001b[32mString\u001b[39m]] = $sess.cmd12Wrapper$Helper$BiMap@1043493e\n",
       "\u001b[36mstringToString\u001b[39m: \u001b[32mBiMap\u001b[39m[\u001b[32mString\u001b[39m, \u001b[32mString\u001b[39m] = $sess.cmd12Wrapper$Helper$BiMap@5d234ce9"
      ]
     },
     "execution_count": 13,
     "metadata": {},
     "output_type": "execute_result"
    }
   ],
   "source": [
    "class BiMap[K, V]\n",
    "implicit val stringToVec = new BiMap[String, BV[Double]]\n",
    "implicit val stringToArrayDouble = new BiMap[String, Array[Double]]\n",
    "implicit val stringToArrayString = new BiMap[String, Array[String]]\n",
    "implicit val stringToString = new BiMap[String, String]"
   ]
  },
  {
   "cell_type": "code",
   "execution_count": 13,
   "metadata": {
    "collapsed": false,
    "deletable": true,
    "editable": true
   },
   "outputs": [
    {
     "name": "stderr",
     "output_type": "stream",
     "text": [
      "cmd13.sc:1: not found: value HMap\n",
      "val hm1 = HMap[BiMap](\"saliney\" -> BV[Double](1.0,2.0,3.0), \"term\" -> BV[Double](3.5,6.8,7.8))\n",
      "          ^"
     ]
    },
    {
     "ename": "",
     "evalue": "",
     "output_type": "error",
     "traceback": [
      "Compilation Failed"
     ]
    }
   ],
   "source": [
    "val hm1 = HMap[BiMap](\"saliney\" -> BV[Double](1.0,2.0,3.0), \"term\" -> BV[Double](3.5,6.8,7.8))"
   ]
  },
  {
   "cell_type": "code",
   "execution_count": 13,
   "metadata": {
    "collapsed": false,
    "deletable": true,
    "editable": true
   },
   "outputs": [
    {
     "name": "stderr",
     "output_type": "stream",
     "text": [
      "cmd13.sc:1: not found: value hm1\n",
      "val res13 = hm1.get(\"saliney\")\n",
      "            ^"
     ]
    },
    {
     "ename": "",
     "evalue": "",
     "output_type": "error",
     "traceback": [
      "Compilation Failed"
     ]
    }
   ],
   "source": [
    "hm1.get(\"saliney\")"
   ]
  },
  {
   "cell_type": "code",
   "execution_count": 14,
   "metadata": {
    "collapsed": false,
    "deletable": true,
    "editable": true
   },
   "outputs": [
    {
     "data": {
      "text/plain": [
       "\u001b[36mtvalues\u001b[39m: \u001b[32mArray\u001b[39m[\u001b[32mDouble\u001b[39m] = \u001b[33mArray\u001b[39m(\n",
       "  \u001b[32m1.866393526974307\u001b[39m,\n",
       "  \u001b[32m2.864048126935307\u001b[39m,\n",
       "  \u001b[32m4.032486069215076\u001b[39m,\n",
       "  \u001b[32m7.876169953355888\u001b[39m,\n",
       "  \u001b[32m4.875333799256043\u001b[39m,\n",
       "  \u001b[32m14.316322626848278\u001b[39m\n",
       ")\n",
       "\u001b[36mpvalues\u001b[39m: \u001b[32mArray\u001b[39m[\u001b[32mDouble\u001b[39m] = \u001b[33mArray\u001b[39m(\n",
       "  \u001b[32m0.064020056478447\u001b[39m,\n",
       "  \u001b[32m0.004808399479386827\u001b[39m,\n",
       "  \u001b[32m8.914865448939047E-5\u001b[39m,\n",
       "  \u001b[32m7.489564524121306E-13\u001b[39m,\n",
       "  \u001b[32m2.8363794106756046E-6\u001b[39m,\n",
       "  \u001b[32m0.0\u001b[39m\n",
       ")"
      ]
     },
     "execution_count": 14,
     "metadata": {},
     "output_type": "execute_result"
    }
   ],
   "source": [
    "val tvalues: Array[Double] = Array(1.866393526974307, 2.864048126935307, 4.032486069215076, 7.876169953355888, 4.875333799256043, 14.316322626848278)\n",
    "val pvalues: Array[Double] = Array(0.064020056478447, 0.004808399479386827, 8.914865448939047E-5, 7.489564524121306E-13, 2.8363794106756046E-6, 0.0)"
   ]
  },
  {
   "cell_type": "code",
   "execution_count": 15,
   "metadata": {
    "collapsed": false,
    "deletable": true,
    "editable": true
   },
   "outputs": [
    {
     "data": {
      "text/plain": [
       "\u001b[36mzippedArray\u001b[39m: \u001b[32mArray\u001b[39m[\u001b[32mArray\u001b[39m[\u001b[32mDouble\u001b[39m]] = \u001b[33mArray\u001b[39m(\n",
       "  \u001b[33mArray\u001b[39m(\u001b[32m1.866393526974307\u001b[39m, \u001b[32m0.064020056478447\u001b[39m),\n",
       "  \u001b[33mArray\u001b[39m(\u001b[32m2.864048126935307\u001b[39m, \u001b[32m0.004808399479386827\u001b[39m),\n",
       "  \u001b[33mArray\u001b[39m(\u001b[32m4.032486069215076\u001b[39m, \u001b[32m8.914865448939047E-5\u001b[39m),\n",
       "  \u001b[33mArray\u001b[39m(\u001b[32m7.876169953355888\u001b[39m, \u001b[32m7.489564524121306E-13\u001b[39m),\n",
       "  \u001b[33mArray\u001b[39m(\u001b[32m4.875333799256043\u001b[39m, \u001b[32m2.8363794106756046E-6\u001b[39m),\n",
       "  \u001b[33mArray\u001b[39m(\u001b[32m14.316322626848278\u001b[39m, \u001b[32m0.0\u001b[39m)\n",
       ")"
      ]
     },
     "execution_count": 15,
     "metadata": {},
     "output_type": "execute_result"
    }
   ],
   "source": [
    "val zippedArray = Array(tvalues, pvalues).transpose"
   ]
  },
  {
   "cell_type": "code",
   "execution_count": 16,
   "metadata": {
    "collapsed": false,
    "deletable": true,
    "editable": true
   },
   "outputs": [
    {
     "data": {
      "text/plain": [
       "\u001b[36mstrngArray\u001b[39m: \u001b[32mArray\u001b[39m[\u001b[32mString\u001b[39m] = \u001b[33mArray\u001b[39m(\u001b[32m\"Default\"\u001b[39m, \u001b[32m\"Default\"\u001b[39m, \u001b[32m\"Default\"\u001b[39m, \u001b[32m\"Default\"\u001b[39m, \u001b[32m\"Default\"\u001b[39m, \u001b[32m\"Default\"\u001b[39m)"
      ]
     },
     "execution_count": 16,
     "metadata": {},
     "output_type": "execute_result"
    }
   ],
   "source": [
    "val strngArray = Array.fill(tvalues.length)(\"Default\")"
   ]
  },
  {
   "cell_type": "code",
   "execution_count": 16,
   "metadata": {
    "collapsed": false,
    "deletable": true,
    "editable": true
   },
   "outputs": [
    {
     "name": "stderr",
     "output_type": "stream",
     "text": [
      "cmd16.sc:1: No implicit view available from Array[_ >: String with Double] => Array[U].\n",
      "val zippedArray1 = Array(tvalues, pvalues, strngArray).transpose\n",
      "                                                       ^"
     ]
    },
    {
     "ename": "",
     "evalue": "",
     "output_type": "error",
     "traceback": [
      "Compilation Failed"
     ]
    }
   ],
   "source": [
    "val zippedArray1 = Array(tvalues, pvalues, strngArray).transpose"
   ]
  },
  {
   "cell_type": "code",
   "execution_count": 17,
   "metadata": {
    "collapsed": false,
    "deletable": true,
    "editable": true
   },
   "outputs": [
    {
     "data": {
      "text/plain": [
       "\u001b[36mlambdaStep\u001b[39m: \u001b[32mDouble\u001b[39m = \u001b[32m0.01\u001b[39m\n",
       "\u001b[36mlambdaSeq\u001b[39m: \u001b[32mcollection\u001b[39m.\u001b[32mimmutable\u001b[39m.\u001b[32mNumericRange\u001b[39m.\u001b[32mInclusive\u001b[39m[\u001b[32mBigDecimal\u001b[39m] = \u001b[33mNumericRange.Inclusive\u001b[39m(\n",
       "  0.00,\n",
       "  0.01,\n",
       "  0.02,\n",
       "  0.03,\n",
       "  0.04,\n",
       "  0.05,\n",
       "  0.06,\n",
       "  0.07,\n",
       "  0.08,\n",
       "  0.09,\n",
       "  0.10,\n",
       "\u001b[33m...\u001b[39m"
      ]
     },
     "execution_count": 17,
     "metadata": {},
     "output_type": "execute_result"
    }
   ],
   "source": [
    "val lambdaStep = 0.01\n",
    "val lambdaSeq = BigDecimal(\"0.00\") to BigDecimal(\"1.0\") by BigDecimal(lambdaStep)\n"
   ]
  },
  {
   "cell_type": "code",
   "execution_count": 18,
   "metadata": {
    "collapsed": false,
    "deletable": true,
    "editable": true
   },
   "outputs": [
    {
     "data": {
      "text/plain": [
       "\u001b[36mm\u001b[39m: \u001b[32mDenseMatrix\u001b[39m[\u001b[32mDouble\u001b[39m] = 0.23  0.2   0.1   0.92  0.33  0.42  \n",
       "0.1   0.43  0.23  0.15  0.22  0.12  \n",
       "0.2   0.13  0.25  0.85  0.02  0.32  \n",
       "0.43  0.65  0.23  0.45  0.1   0.33  \n",
       "0.31  0.87  0.45  0.63  0.28  0.16  \n",
       "0.12  0.84  0.33  0.45  0.56  0.83  \n",
       "0.4   0.22  0.12  0.87  0.35  0.78  "
      ]
     },
     "execution_count": 18,
     "metadata": {},
     "output_type": "execute_result"
    }
   ],
   "source": [
    " val m = BDM(\n",
    "    (0.23, 0.20, 0.10, 0.92, 0.33, 0.42),\n",
    "    (0.10, 0.43, 0.23, 0.15, 0.22, 0.12),\n",
    "    (0.20, 0.13, 0.25, 0.85, 0.02, 0.32),\n",
    "    (0.43, 0.65, 0.23, 0.45, 0.10, 0.33),\n",
    "    (0.31, 0.87, 0.45, 0.63, 0.28, 0.16),\n",
    "    (0.12, 0.84, 0.33, 0.45, 0.56, 0.83),\n",
    "    (0.40, 0.22, 0.12, 0.87, 0.35, 0.78))\n",
    "\n",
    "\n"
   ]
  },
  {
   "cell_type": "code",
   "execution_count": 24,
   "metadata": {
    "collapsed": false,
    "deletable": true,
    "editable": true
   },
   "outputs": [
    {
     "data": {
      "text/plain": [
       "\u001b[36ma\u001b[39m: \u001b[32mArray\u001b[39m[\u001b[32mInt\u001b[39m] = \u001b[33mArray\u001b[39m(\u001b[32m3\u001b[39m, \u001b[32m6\u001b[39m, \u001b[32m4\u001b[39m, \u001b[32m0\u001b[39m, \u001b[32m2\u001b[39m)"
      ]
     },
     "execution_count": 24,
     "metadata": {},
     "output_type": "execute_result"
    }
   ],
   "source": [
    "  // Let's work in a mix functional style and iterator working with columns\n",
    "  // look at this example\n",
    "\n",
    "  val a = m(::, 0) // get the firts column\n",
    "    .toArray // pass to scala array for functional usage, you can use then to List\n",
    "    .zipWithIndex // now you have and array like [(value0,0),(value1,1) ... (valuen,n)]\n",
    "    .sortWith((x, y) => x._1 > y._1) // sort by bigger number\n",
    "    .take(5) // get only 5 first numbers\n",
    "    .map(x => x._2) // finally get the indexes\n",
    "\n"
   ]
  },
  {
   "cell_type": "code",
   "execution_count": 27,
   "metadata": {
    "collapsed": false,
    "deletable": true,
    "editable": true
   },
   "outputs": [
    {
     "data": {
      "text/plain": [
       "\u001b[36ma\u001b[39m: \u001b[32mArray\u001b[39m[\u001b[32mInt\u001b[39m] = \u001b[33mArray\u001b[39m(\u001b[32m3\u001b[39m, \u001b[32m5\u001b[39m, \u001b[32m4\u001b[39m, \u001b[32m0\u001b[39m, \u001b[32m1\u001b[39m)"
      ]
     },
     "execution_count": 27,
     "metadata": {},
     "output_type": "execute_result"
    }
   ],
   "source": [
    "val a = Array(0.23,  0.2,   0.1,   0.92,  0.33,  0.42).zipWithIndex.sortWith((x, y) => x._1 > y._1)\n",
    "    .take(5)\n",
    "    .map(x => x._2)"
   ]
  },
  {
   "cell_type": "code",
   "execution_count": 1,
   "metadata": {
    "collapsed": false,
    "deletable": true,
    "editable": true
   },
   "outputs": [
    {
     "data": {
      "text/plain": [
       "\u001b[36mres0\u001b[39m: \u001b[32mRange\u001b[39m.\u001b[32mInclusive\u001b[39m = \u001b[33mRange.Inclusive\u001b[39m(\u001b[32m1\u001b[39m, \u001b[32m2\u001b[39m, \u001b[32m3\u001b[39m, \u001b[32m4\u001b[39m, \u001b[32m5\u001b[39m, \u001b[32m6\u001b[39m)"
      ]
     },
     "execution_count": 1,
     "metadata": {},
     "output_type": "execute_result"
    }
   ],
   "source": [
    "1 to 6"
   ]
  },
  {
   "cell_type": "code",
   "execution_count": 29,
   "metadata": {
    "collapsed": false,
    "deletable": true,
    "editable": true
   },
   "outputs": [
    {
     "name": "stdout",
     "output_type": "stream",
     "text": [
      "3  5  4  0  1  \n",
      "1  2  4  3  5  \n",
      "3  5  2  0  1  \n",
      "1  3  0  5  2  \n",
      "1  3  2  0  4  \n",
      "1  5  4  3  2  \n",
      "3  5  0  4  1  \n"
     ]
    },
    {
     "data": {
      "text/plain": [
       "\u001b[36mlistsOfIndexes\u001b[39m: \u001b[32mcollection\u001b[39m.\u001b[32mimmutable\u001b[39m.\u001b[32mIndexedSeq\u001b[39m[\u001b[32mArray\u001b[39m[\u001b[32mInt\u001b[39m]] = \u001b[33mVector\u001b[39m(\n",
       "  \u001b[33mArray\u001b[39m(\u001b[32m3\u001b[39m, \u001b[32m5\u001b[39m, \u001b[32m4\u001b[39m, \u001b[32m0\u001b[39m, \u001b[32m1\u001b[39m),\n",
       "  \u001b[33mArray\u001b[39m(\u001b[32m1\u001b[39m, \u001b[32m2\u001b[39m, \u001b[32m4\u001b[39m, \u001b[32m3\u001b[39m, \u001b[32m5\u001b[39m),\n",
       "  \u001b[33mArray\u001b[39m(\u001b[32m3\u001b[39m, \u001b[32m5\u001b[39m, \u001b[32m2\u001b[39m, \u001b[32m0\u001b[39m, \u001b[32m1\u001b[39m),\n",
       "  \u001b[33mArray\u001b[39m(\u001b[32m1\u001b[39m, \u001b[32m3\u001b[39m, \u001b[32m0\u001b[39m, \u001b[32m5\u001b[39m, \u001b[32m2\u001b[39m),\n",
       "  \u001b[33mArray\u001b[39m(\u001b[32m1\u001b[39m, \u001b[32m3\u001b[39m, \u001b[32m2\u001b[39m, \u001b[32m0\u001b[39m, \u001b[32m4\u001b[39m),\n",
       "  \u001b[33mArray\u001b[39m(\u001b[32m1\u001b[39m, \u001b[32m5\u001b[39m, \u001b[32m4\u001b[39m, \u001b[32m3\u001b[39m, \u001b[32m2\u001b[39m),\n",
       "  \u001b[33mArray\u001b[39m(\u001b[32m3\u001b[39m, \u001b[32m5\u001b[39m, \u001b[32m0\u001b[39m, \u001b[32m4\u001b[39m, \u001b[32m1\u001b[39m)\n",
       ")\n",
       "\u001b[36mmIndex\u001b[39m: \u001b[32mDenseMatrix\u001b[39m[\u001b[32mInt\u001b[39m] = 3  5  4  0  1  \n",
       "1  2  4  3  5  \n",
       "3  5  2  0  1  \n",
       "1  3  0  5  2  \n",
       "1  3  2  0  4  \n",
       "1  5  4  3  2  \n",
       "3  5  0  4  1  "
      ]
     },
     "execution_count": 29,
     "metadata": {},
     "output_type": "execute_result"
    }
   ],
   "source": [
    "  //now we have to loop for each colum\n",
    "  // prepare the matrix and get the Vector(indexes,Array[Int],Array[Int])\n",
    "\n",
    "  val listsOfIndexes = for (i <- Range(0, m.rows))\n",
    "    yield m(i, ::).inner.toArray\n",
    "    .zipWithIndex\n",
    "    .sortWith((x, y) => x._1 > y._1)\n",
    "    .take(5)\n",
    "    .map(x => x._2)\n",
    "\n",
    "  //finally conver to a DenseMatrix\n",
    "\n",
    "  val mIndex = BDM(listsOfIndexes.map(_.toArray): _*)\n",
    "\n",
    "  println(mIndex)"
   ]
  },
  {
   "cell_type": "code",
   "execution_count": 3,
   "metadata": {
    "collapsed": false,
    "deletable": true,
    "editable": true
   },
   "outputs": [
    {
     "data": {
      "text/plain": [
       "\u001b[36ma1\u001b[39m: \u001b[32mArray\u001b[39m[\u001b[32mInt\u001b[39m] = \u001b[33mArray\u001b[39m(\u001b[32m1\u001b[39m, \u001b[32m2\u001b[39m, \u001b[32m3\u001b[39m)\n",
       "\u001b[36ma2\u001b[39m: \u001b[32mArray\u001b[39m[\u001b[32mInt\u001b[39m] = \u001b[33mArray\u001b[39m(\u001b[32m1\u001b[39m, \u001b[32m2\u001b[39m, \u001b[32m3\u001b[39m)\n",
       "\u001b[36mcuratedTermIndex\u001b[39m: \u001b[32mArray\u001b[39m[\u001b[32mInt\u001b[39m] = \u001b[33mArray\u001b[39m()"
      ]
     },
     "execution_count": 3,
     "metadata": {},
     "output_type": "execute_result"
    }
   ],
   "source": [
    "val a1 = Array(1,2,3)\n",
    "val a2 = Array(1,2,3)\n",
    "var curatedTermIndex: Array[Int] = Array()"
   ]
  },
  {
   "cell_type": "code",
   "execution_count": 3,
   "metadata": {
    "collapsed": false,
    "deletable": true,
    "editable": true
   },
   "outputs": [
    {
     "name": "stderr",
     "output_type": "stream",
     "text": [
      "cmd3.sc:1: value :: is not a member of Array[Int]\n",
      "val res3 = curatedTermIndex :: a1\n",
      "                            ^"
     ]
    },
    {
     "ename": "",
     "evalue": "",
     "output_type": "error",
     "traceback": [
      "Compilation Failed"
     ]
    }
   ],
   "source": [
    "curatedTermIndex :: a1"
   ]
  },
  {
   "cell_type": "code",
   "execution_count": 7,
   "metadata": {
    "collapsed": false,
    "deletable": true,
    "editable": true
   },
   "outputs": [],
   "source": [
    "curatedTermIndex = curatedTermIndex++:a1++:a2"
   ]
  },
  {
   "cell_type": "code",
   "execution_count": 8,
   "metadata": {
    "collapsed": false,
    "deletable": true,
    "editable": true
   },
   "outputs": [
    {
     "data": {
      "text/plain": [
       "\u001b[36mres7\u001b[39m: \u001b[32mArray\u001b[39m[\u001b[32mInt\u001b[39m] = \u001b[33mArray\u001b[39m(\u001b[32m1\u001b[39m, \u001b[32m2\u001b[39m, \u001b[32m3\u001b[39m, \u001b[32m1\u001b[39m, \u001b[32m2\u001b[39m, \u001b[32m3\u001b[39m, \u001b[32m1\u001b[39m, \u001b[32m2\u001b[39m, \u001b[32m3\u001b[39m)"
      ]
     },
     "execution_count": 8,
     "metadata": {},
     "output_type": "execute_result"
    }
   ],
   "source": [
    "curatedTermIndex"
   ]
  },
  {
   "cell_type": "code",
   "execution_count": 2,
   "metadata": {
    "collapsed": false,
    "deletable": true,
    "editable": true
   },
   "outputs": [
    {
     "name": "stderr",
     "output_type": "stream",
     "text": [
      "cmd2.sc:3: reference to typeOf is ambiguous;\n",
      "it is imported twice in the same scope by\n",
      "import scala.reflect.runtime.universe._\n",
      "and import _root_.jupyter.api.JupyterAPIHolder.value.{codeColors, exit, publish, tprintColors, show, typeOf}\n",
      "def classAccessors[T: TypeTag]: List[MethodSymbol] = typeOf[T].members.collect {\n",
      "                                                     ^"
     ]
    },
    {
     "ename": "",
     "evalue": "",
     "output_type": "error",
     "traceback": [
      "Compilation Failed"
     ]
    }
   ],
   "source": [
    "import scala.reflect.runtime.universe._\n",
    "\n",
    "def classAccessors[T: TypeTag]: List[MethodSymbol] = typeOf[T].members.collect {\n",
    "  case m: MethodSymbol if m.isCaseAccessor => m\n",
    "}.toList"
   ]
  },
  {
   "cell_type": "code",
   "execution_count": null,
   "metadata": {
    "collapsed": true
   },
   "outputs": [],
   "source": []
  }
 ],
 "metadata": {
  "kernelspec": {
   "display_name": "Scala",
   "language": "scala",
   "name": "scala"
  },
  "language_info": {
   "codemirror_mode": "text/x-scala",
   "file_extension": ".scala",
   "mimetype": "text/x-scala",
   "name": "scala212",
   "nbconvert_exporter": "script",
   "pygments_lexer": "scala",
   "version": "2.12.1"
  }
 },
 "nbformat": 4,
 "nbformat_minor": 2
}
